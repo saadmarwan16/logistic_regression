{
  "nbformat": 4,
  "nbformat_minor": 0,
  "metadata": {
    "colab": {
      "name": "logistic3.ipynb",
      "provenance": [],
      "authorship_tag": "ABX9TyP0stFMJ8iUgpN1IBt8VFOm",
      "include_colab_link": true
    },
    "kernelspec": {
      "name": "python3",
      "display_name": "Python 3"
    },
    "language_info": {
      "name": "python"
    }
  },
  "cells": [
    {
      "cell_type": "markdown",
      "metadata": {
        "id": "view-in-github",
        "colab_type": "text"
      },
      "source": [
        "<a href=\"https://colab.research.google.com/github/saadmarwan16/logistic_regression/blob/main/logistic3.ipynb\" target=\"_parent\"><img src=\"https://colab.research.google.com/assets/colab-badge.svg\" alt=\"Open In Colab\"/></a>"
      ]
    },
    {
      "cell_type": "code",
      "metadata": {
        "id": "LbxJEL8PiT85"
      },
      "source": [
        "import numpy as np"
      ],
      "execution_count": 1,
      "outputs": []
    },
    {
      "cell_type": "code",
      "metadata": {
        "id": "w6c1c1csigx4"
      },
      "source": [
        "N = 100\n",
        "D = 2"
      ],
      "execution_count": 2,
      "outputs": []
    },
    {
      "cell_type": "code",
      "metadata": {
        "id": "QC_9lh6Zijp1"
      },
      "source": [
        "X = np.random.randn(N, D)"
      ],
      "execution_count": 3,
      "outputs": []
    },
    {
      "cell_type": "code",
      "metadata": {
        "id": "b5sabdTAixDu"
      },
      "source": [
        "X[:50, :] = X[:50, :] - 2*np.ones((50, D))\n",
        "X[50:, :] = X[50:, :] + 2*np.ones((50, D))\n",
        "\n",
        "T = np.array([0]*50 + [1]*50)"
      ],
      "execution_count": 4,
      "outputs": []
    },
    {
      "cell_type": "code",
      "metadata": {
        "id": "2rmyWKMViz7Y"
      },
      "source": [
        "ones = np.array([[1]*N]).T\n",
        "Xb = np.concatenate((ones, X), axis=1)"
      ],
      "execution_count": 5,
      "outputs": []
    },
    {
      "cell_type": "code",
      "metadata": {
        "id": "nhLyHfiEi2bt"
      },
      "source": [
        "w = np.random.randn(D + 1)\n",
        "z = Xb.dot(w)"
      ],
      "execution_count": 6,
      "outputs": []
    },
    {
      "cell_type": "code",
      "metadata": {
        "id": "Zk9sm_Nui5mc"
      },
      "source": [
        "def sigmoid(z):\n",
        "    return 1 / (1 + np.exp(-z))"
      ],
      "execution_count": 7,
      "outputs": []
    },
    {
      "cell_type": "code",
      "metadata": {
        "id": "MQLuAwZmi7nd"
      },
      "source": [
        "Y = sigmoid(z)"
      ],
      "execution_count": 8,
      "outputs": []
    },
    {
      "cell_type": "code",
      "metadata": {
        "id": "7-k133OKjT3V"
      },
      "source": [
        "def cross_entropy(T, Y):\n",
        "    E = 0\n",
        "\n",
        "    for i in range(N):\n",
        "        if T[i] == 1:\n",
        "            E -= np.log(Y[i])\n",
        "        else:\n",
        "            E -= np.log(1 - Y[i])\n",
        "\n",
        "    return E"
      ],
      "execution_count": 9,
      "outputs": []
    },
    {
      "cell_type": "code",
      "metadata": {
        "colab": {
          "base_uri": "https://localhost:8080/"
        },
        "id": "iEE0oKTpjX28",
        "outputId": "281f2bad-1403-407a-8f76-c3a38d25ea37"
      },
      "source": [
        "print(f\"The cross entropy error is: {cross_entropy(T, Y)}\")"
      ],
      "execution_count": 10,
      "outputs": [
        {
          "output_type": "stream",
          "text": [
            "The cross entropy error is: 418.77798703752444\n"
          ],
          "name": "stdout"
        }
      ]
    },
    {
      "cell_type": "code",
      "metadata": {
        "colab": {
          "base_uri": "https://localhost:8080/"
        },
        "id": "soxA-oF4jaUe",
        "outputId": "4fd1385e-c317-42a2-e346-2d259120ab95"
      },
      "source": [
        "learning_rate = 0.1\n",
        "\n",
        "for i in range(100):\n",
        "    if i % 10 == 0:\n",
        "        print(cross_entropy(T, Y))\n",
        "\n",
        "    w += learning_rate * np.dot((T - Y).T, Xb)\n",
        "    Y = sigmoid(Xb.dot(w))\n",
        "\n",
        "print(f\"Final weight: {w}\")\n"
      ],
      "execution_count": 11,
      "outputs": [
        {
          "output_type": "stream",
          "text": [
            "418.77798703752444\n",
            "3.225125722334554e-10\n",
            "3.225125722334554e-10\n",
            "3.225125722334554e-10\n",
            "3.225125722334554e-10\n",
            "3.225125722334554e-10\n",
            "3.225125722334554e-10\n",
            "3.225125722334554e-10\n",
            "3.225125722334554e-10\n",
            "3.225125722334554e-10\n",
            "Final weight: [ 0.35344317 18.77959099 17.77898071]\n"
          ],
          "name": "stdout"
        }
      ]
    },
    {
      "cell_type": "code",
      "metadata": {
        "id": "8stkXytkkYzC"
      },
      "source": [
        ""
      ],
      "execution_count": 11,
      "outputs": []
    }
  ]
}