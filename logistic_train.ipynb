{
  "nbformat": 4,
  "nbformat_minor": 0,
  "metadata": {
    "colab": {
      "name": "logistic_train.ipynb",
      "provenance": [],
      "authorship_tag": "ABX9TyNUI4NY0iA+BY8exd/UOnOx",
      "include_colab_link": true
    },
    "kernelspec": {
      "name": "python3",
      "display_name": "Python 3"
    },
    "language_info": {
      "name": "python"
    }
  },
  "cells": [
    {
      "cell_type": "markdown",
      "metadata": {
        "id": "view-in-github",
        "colab_type": "text"
      },
      "source": [
        "<a href=\"https://colab.research.google.com/github/saadmarwan16/logistic_regression/blob/main/logistic_train.ipynb\" target=\"_parent\"><img src=\"https://colab.research.google.com/assets/colab-badge.svg\" alt=\"Open In Colab\"/></a>"
      ]
    },
    {
      "cell_type": "code",
      "metadata": {
        "id": "p_ZKXzgcnEHK"
      },
      "source": [
        "# from google.colab import drive\n",
        "# drive.mount('/content/drive')"
      ],
      "execution_count": 1,
      "outputs": []
    },
    {
      "cell_type": "code",
      "metadata": {
        "id": "aOl__cWEo8jl"
      },
      "source": [
        "# from google.colab import files\n",
        "# files.upload()"
      ],
      "execution_count": 2,
      "outputs": []
    },
    {
      "cell_type": "code",
      "metadata": {
        "id": "NcfDrTi2pqNo"
      },
      "source": [
        "import sys\n",
        "sys.path.insert(0, '/content/drive/MyDrive')"
      ],
      "execution_count": 3,
      "outputs": []
    },
    {
      "cell_type": "code",
      "metadata": {
        "id": "VKo_Qxy_pPE8"
      },
      "source": [
        "import numpy as np\n",
        "from pandas import read_csv\n",
        "import matplotlib.pyplot as plt\n",
        "from sklearn.utils import shuffle\n",
        "from machine_learning_python.process import get_binary_data"
      ],
      "execution_count": 4,
      "outputs": []
    },
    {
      "cell_type": "code",
      "metadata": {
        "id": "w-pWufN3qGMo"
      },
      "source": [
        "X, Y = get_binary_data(read_csv('ecommerce_data.csv'))\n",
        "X, Y = shuffle(X, Y)"
      ],
      "execution_count": 5,
      "outputs": []
    },
    {
      "cell_type": "code",
      "metadata": {
        "id": "OZ6fbP7cqnEU"
      },
      "source": [
        "Xtrain = X[:-100]\n",
        "Ytrain = Y[:-100]\n",
        "Xtest = X[-100:]\n",
        "Ytest = Y[-100:]"
      ],
      "execution_count": 6,
      "outputs": []
    },
    {
      "cell_type": "code",
      "metadata": {
        "id": "tGptd5tsrCdD"
      },
      "source": [
        "D = X.shape[1]\n",
        "w = np.random.randn(D)\n",
        "b = 0"
      ],
      "execution_count": 7,
      "outputs": []
    },
    {
      "cell_type": "code",
      "metadata": {
        "id": "Al1K07AtrMrF"
      },
      "source": [
        "def sigmoid(a):\n",
        "    return 1 / (1 + np.exp(-a))"
      ],
      "execution_count": 8,
      "outputs": []
    },
    {
      "cell_type": "code",
      "metadata": {
        "id": "8sh3AGzYrVqg"
      },
      "source": [
        "def forward(X, W, b):\n",
        "    return sigmoid(X.dot(W) + b)"
      ],
      "execution_count": 9,
      "outputs": []
    },
    {
      "cell_type": "code",
      "metadata": {
        "id": "XSGcEKVPrpga"
      },
      "source": [
        "def classification_rate(Y, P):\n",
        "    return np.mean(Y == P)"
      ],
      "execution_count": 10,
      "outputs": []
    },
    {
      "cell_type": "code",
      "metadata": {
        "id": "HdrOAkA_rvkE"
      },
      "source": [
        "def cross_entropy(T, pY):\n",
        "    return -np.mean(T*np.log(pY) + (1 - T)*np.log(1 - pY))"
      ],
      "execution_count": 11,
      "outputs": []
    },
    {
      "cell_type": "code",
      "metadata": {
        "colab": {
          "base_uri": "https://localhost:8080/"
        },
        "id": "C-kBJ1u_sYHl",
        "outputId": "5bc3e0e3-6edb-4fe5-e0a6-71ec521f83ee"
      },
      "source": [
        "train_costs = list()\n",
        "test_costs = list()\n",
        "learning_rate = 0.001\n",
        "\n",
        "for i in range(10000):\n",
        "    pYtrain = forward(Xtrain, w, b)\n",
        "    pYtest = forward(Xtest, w, b)\n",
        "\n",
        "    ctrain = cross_entropy(Ytrain, pYtrain)\n",
        "    ctest = cross_entropy(Ytest, pYtest)\n",
        "    train_costs.append(ctrain)\n",
        "    test_costs.append(ctest)\n",
        "\n",
        "    w -= learning_rate*Xtrain.T.dot(pYtrain - Ytrain)\n",
        "    b -= learning_rate*(pYtrain - Ytrain).sum()\n",
        "\n",
        "    if i % 1000 == 0:\n",
        "        print(f\"Iteration number: {i}, training cost: {ctrain}, testing_cost: {ctest}\")\n",
        "\n",
        "print(f\"Final train classification_rate: {classification_rate(Ytrain, np.round(pYtrain))}\")\n",
        "print(f\"Final train classification_rate: {classification_rate(Ytest, np.round(pYtest))}\")"
      ],
      "execution_count": 12,
      "outputs": [
        {
          "output_type": "stream",
          "text": [
            "Iteration number: 0, training cost: 0.8137550599536472, testing_cost: 0.8204122144181928\n",
            "Iteration number: 1000, training cost: 0.17460958311311042, testing_cost: 0.2132232094922136\n",
            "Iteration number: 2000, training cost: 0.17329511877836865, testing_cost: 0.21337900434572624\n",
            "Iteration number: 3000, training cost: 0.17317542716810425, testing_cost: 0.2137990645350584\n",
            "Iteration number: 4000, training cost: 0.1731618589542915, testing_cost: 0.21397465123821424\n",
            "Iteration number: 5000, training cost: 0.17316021971354945, testing_cost: 0.21403944258286356\n",
            "Iteration number: 6000, training cost: 0.17316001742167078, testing_cost: 0.2140626413722856\n",
            "Iteration number: 7000, training cost: 0.17315999227349121, testing_cost: 0.21407087306202408\n",
            "Iteration number: 8000, training cost: 0.1731599891390886, testing_cost: 0.21407378544326336\n",
            "Iteration number: 9000, training cost: 0.17315998874806962, testing_cost: 0.2140748148548527\n",
            "Final train classification_rate: 0.9731543624161074\n",
            "Final train classification_rate: 0.96\n"
          ],
          "name": "stdout"
        }
      ]
    },
    {
      "cell_type": "code",
      "metadata": {
        "colab": {
          "base_uri": "https://localhost:8080/",
          "height": 265
        },
        "id": "2hBKVdzquKZb",
        "outputId": "43a21f17-76a6-480a-87a7-8c387bf8c62d"
      },
      "source": [
        "legend1 = plt.plot(train_costs, label='train cost')\n",
        "legend2 = plt.plot(test_costs, label='test cost')\n",
        "plt.legend([legend1, legend2])\n",
        "plt.show();"
      ],
      "execution_count": 13,
      "outputs": [
        {
          "output_type": "display_data",
          "data": {
            "image/png": "[encoded data removed]",
            "text/plain": [
              "<Figure size 432x288 with 1 Axes>"
            ]
          },
          "metadata": {
            "tags": [],
            "needs_background": "light"
          }
        }
      ]
    },
    {
      "cell_type": "code",
      "metadata": {
        "id": "PNiUVdbaw_yX"
      },
      "source": [
        ""
      ],
      "execution_count": 13,
      "outputs": []
    }
  ]
}