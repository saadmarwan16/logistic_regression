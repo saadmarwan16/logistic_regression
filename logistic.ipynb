{
  "nbformat": 4,
  "nbformat_minor": 0,
  "metadata": {
    "colab": {
      "name": "logistic.ipynb",
      "provenance": [],
      "authorship_tag": "ABX9TyPLEqNHYls/2rPkunIOsEl0",
      "include_colab_link": true
    },
    "kernelspec": {
      "name": "python3",
      "display_name": "Python 3"
    },
    "language_info": {
      "name": "python"
    }
  },
  "cells": [
    {
      "cell_type": "markdown",
      "metadata": {
        "id": "view-in-github",
        "colab_type": "text"
      },
      "source": [
        "<a href=\"https://colab.research.google.com/github/saadmarwan16/logistic_regression/blob/main/logistic.ipynb\" target=\"_parent\"><img src=\"https://colab.research.google.com/assets/colab-badge.svg\" alt=\"Open In Colab\"/></a>"
      ]
    },
    {
      "cell_type": "code",
      "metadata": {
        "id": "xc8P0ZiRY6I6"
      },
      "source": [
        "import numpy as np"
      ],
      "execution_count": 1,
      "outputs": []
    },
    {
      "cell_type": "code",
      "metadata": {
        "id": "Ba_hp6z9ZJ-9"
      },
      "source": [
        "N = 100\n",
        "D = 2"
      ],
      "execution_count": 2,
      "outputs": []
    },
    {
      "cell_type": "code",
      "metadata": {
        "id": "IfcgSHKpZLyr"
      },
      "source": [
        "X = np.random.randn(N, D)\n",
        "ones = np.array([[1]*N]).T\n",
        "Xb = np.concatenate((ones, X), axis=1)"
      ],
      "execution_count": 3,
      "outputs": []
    },
    {
      "cell_type": "code",
      "metadata": {
        "id": "-zbvphaOZm4n"
      },
      "source": [
        "w = np.random.randn(D + 1)"
      ],
      "execution_count": 4,
      "outputs": []
    },
    {
      "cell_type": "code",
      "metadata": {
        "id": "Y-gV0lFeZ4rV"
      },
      "source": [
        "z = Xb.dot(w)"
      ],
      "execution_count": 5,
      "outputs": []
    },
    {
      "cell_type": "code",
      "metadata": {
        "id": "HvpVoAXxbpAK"
      },
      "source": [
        "def sigmoid(z):\n",
        "    return 1 / (1 + np.exp(-z))"
      ],
      "execution_count": 6,
      "outputs": []
    },
    {
      "cell_type": "code",
      "metadata": {
        "colab": {
          "base_uri": "https://localhost:8080/"
        },
        "id": "OsfeO-ZlcGAt",
        "outputId": "8eb2b246-4d61-4230-86ee-2d25deaba898"
      },
      "source": [
        "print(sigmoid(z))"
      ],
      "execution_count": 7,
      "outputs": [
        {
          "output_type": "stream",
          "text": [
            "[0.7891459  0.18686312 0.78117042 0.42270634 0.85181453 0.36681582\n",
            " 0.95337881 0.51724454 0.77397843 0.72936001 0.58442971 0.71128408\n",
            " 0.23338318 0.22404856 0.17504024 0.23462301 0.59063523 0.8894006\n",
            " 0.48619773 0.7847343  0.58166132 0.78482307 0.92910145 0.25059955\n",
            " 0.08311613 0.94486636 0.76507197 0.80372328 0.12056004 0.54410151\n",
            " 0.36551791 0.98342603 0.62707004 0.84471398 0.82056624 0.83975508\n",
            " 0.90960331 0.78734117 0.70657038 0.54024187 0.88322167 0.78956257\n",
            " 0.8034386  0.36079767 0.04486408 0.8232183  0.67682066 0.76426575\n",
            " 0.64415678 0.15034227 0.73837094 0.57404193 0.81607273 0.73174883\n",
            " 0.5699438  0.04824393 0.84365895 0.94571213 0.53373257 0.93401834\n",
            " 0.73200675 0.94728143 0.68213244 0.67744268 0.64510738 0.69087901\n",
            " 0.92329091 0.46442393 0.12050473 0.04296134 0.87926721 0.03994056\n",
            " 0.71156133 0.86778041 0.59895913 0.97488745 0.42563171 0.10620792\n",
            " 0.86011343 0.98454076 0.93963063 0.53824676 0.88522235 0.74358073\n",
            " 0.1363114  0.47026606 0.56357689 0.41224247 0.9017714  0.29320919\n",
            " 0.86670866 0.88842773 0.7887317  0.20979128 0.97740338 0.28986087\n",
            " 0.95787661 0.5721662  0.11187379 0.29551194]\n"
          ],
          "name": "stdout"
        }
      ]
    },
    {
      "cell_type": "code",
      "metadata": {
        "id": "V854VjzQcMS1"
      },
      "source": [
        ""
      ],
      "execution_count": 7,
      "outputs": []
    }
  ]
}