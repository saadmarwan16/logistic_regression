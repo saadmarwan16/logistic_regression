{
  "nbformat": 4,
  "nbformat_minor": 0,
  "metadata": {
    "colab": {
      "name": "logistic_predict.ipynb",
      "provenance": [],
      "authorship_tag": "ABX9TyML5YQS0LHem4N4QEgW49JM",
      "include_colab_link": true
    },
    "kernelspec": {
      "name": "python3",
      "display_name": "Python 3"
    },
    "language_info": {
      "name": "python"
    }
  },
  "cells": [
    {
      "cell_type": "markdown",
      "metadata": {
        "id": "view-in-github",
        "colab_type": "text"
      },
      "source": [
        "<a href=\"https://colab.research.google.com/github/saadmarwan16/logistic_regression/blob/main/logistic_predict.ipynb\" target=\"_parent\"><img src=\"https://colab.research.google.com/assets/colab-badge.svg\" alt=\"Open In Colab\"/></a>"
      ]
    },
    {
      "cell_type": "code",
      "metadata": {
        "id": "YD_rtW6C9Xlx"
      },
      "source": [
        "# from google.colab import drive\n",
        "# drive.mount('/content/drive')"
      ],
      "execution_count": 1,
      "outputs": []
    },
    {
      "cell_type": "code",
      "metadata": {
        "id": "gCCrkMrxBS8B"
      },
      "source": [
        "# from google.colab import files\n",
        "# uploaded = files.upload()"
      ],
      "execution_count": 2,
      "outputs": []
    },
    {
      "cell_type": "code",
      "metadata": {
        "id": "qZ761pqirRyF"
      },
      "source": [
        "import sys\n",
        "sys.path.insert(0, '/content/drive/MyDrive')"
      ],
      "execution_count": 3,
      "outputs": []
    },
    {
      "cell_type": "code",
      "metadata": {
        "id": "ShqpacJ_32jc"
      },
      "source": [
        "import numpy as np\n",
        "from pandas import read_csv\n",
        "from machine_learning_python.process import get_binary_data"
      ],
      "execution_count": 4,
      "outputs": []
    },
    {
      "cell_type": "code",
      "metadata": {
        "id": "85tu0Fmj4IYh"
      },
      "source": [
        "X, Y = get_binary_data(read_csv('ecommerce_data.csv'))"
      ],
      "execution_count": 5,
      "outputs": []
    },
    {
      "cell_type": "code",
      "metadata": {
        "id": "p-pBBGYq_bBq"
      },
      "source": [
        "D = X.shape[1]\n",
        "W = np.random.randn(D)\n",
        "b = 0"
      ],
      "execution_count": 6,
      "outputs": []
    },
    {
      "cell_type": "code",
      "metadata": {
        "id": "HzmDsrKnA8Y1"
      },
      "source": [
        "def sigmoid(a):\n",
        "    return 1 / (1 + np.exp(-a))"
      ],
      "execution_count": 7,
      "outputs": []
    },
    {
      "cell_type": "code",
      "metadata": {
        "id": "0wOrM-FgA-hC"
      },
      "source": [
        "def forward(X, W, b):\n",
        "    return sigmoid(X.dot(W) + b)"
      ],
      "execution_count": 8,
      "outputs": []
    },
    {
      "cell_type": "code",
      "metadata": {
        "id": "QslHbg7NBAUY"
      },
      "source": [
        "P_Y_given_X = forward(X, W, b)\n",
        "predictions = np.round(P_Y_given_X)"
      ],
      "execution_count": 9,
      "outputs": []
    },
    {
      "cell_type": "code",
      "metadata": {
        "id": "SxAUsltBBCGn"
      },
      "source": [
        "def classification_rate(Y, P):\n",
        "    return np.mean(Y == P)"
      ],
      "execution_count": 10,
      "outputs": []
    },
    {
      "cell_type": "code",
      "metadata": {
        "colab": {
          "base_uri": "https://localhost:8080/"
        },
        "id": "TDRLSCbEBFCY",
        "outputId": "c157e319-4534-4ddb-959c-bfadb274b3b3"
      },
      "source": [
        "print(f\"Score: {classification_rate(Y, predictions)}\")"
      ],
      "execution_count": 11,
      "outputs": [
        {
          "output_type": "stream",
          "text": [
            "Score: 0.2537688442211055\n"
          ],
          "name": "stdout"
        }
      ]
    }
  ]
}