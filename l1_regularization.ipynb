{
  "nbformat": 4,
  "nbformat_minor": 0,
  "metadata": {
    "colab": {
      "name": "l1_regularization.ipynb",
      "provenance": [],
      "authorship_tag": "ABX9TyOSe29tXQZEldFWeCPVM4Wv",
      "include_colab_link": true
    },
    "kernelspec": {
      "name": "python3",
      "display_name": "Python 3"
    },
    "language_info": {
      "name": "python"
    }
  },
  "cells": [
    {
      "cell_type": "markdown",
      "metadata": {
        "id": "view-in-github",
        "colab_type": "text"
      },
      "source": [
        "<a href=\"https://colab.research.google.com/github/saadmarwan16/logistic_regression/blob/main/l1_regularization.ipynb\" target=\"_parent\"><img src=\"https://colab.research.google.com/assets/colab-badge.svg\" alt=\"Open In Colab\"/></a>"
      ]
    },
    {
      "cell_type": "code",
      "metadata": {
        "id": "fcEviSyyYI7f"
      },
      "source": [
        "import numpy as np\n",
        "import matplotlib.pyplot as plt"
      ],
      "execution_count": 1,
      "outputs": []
    },
    {
      "cell_type": "code",
      "metadata": {
        "id": "6TfVbwp6YRvq"
      },
      "source": [
        "def sigmoid(z):\n",
        "    return 1 / (1 + np.exp(-z))"
      ],
      "execution_count": 2,
      "outputs": []
    },
    {
      "cell_type": "code",
      "metadata": {
        "id": "zbSFC47rYZdT"
      },
      "source": [
        "N = 50\n",
        "D = 50"
      ],
      "execution_count": 3,
      "outputs": []
    },
    {
      "cell_type": "code",
      "metadata": {
        "id": "O4enWh5QYbVc"
      },
      "source": [
        "X = (np.random.random((N, D)) - 0.5) * 10"
      ],
      "execution_count": 4,
      "outputs": []
    },
    {
      "cell_type": "code",
      "metadata": {
        "id": "5q25W3u_Yvej"
      },
      "source": [
        "true_w = np.array([1, 0.5, -0.5] + [0]*(D-3))"
      ],
      "execution_count": 5,
      "outputs": []
    },
    {
      "cell_type": "code",
      "metadata": {
        "id": "HlOn2LYnZJub"
      },
      "source": [
        "Y = np.round(sigmoid(X.dot(true_w) + np.random.randn(N)*0.5))"
      ],
      "execution_count": 6,
      "outputs": []
    },
    {
      "cell_type": "code",
      "metadata": {
        "id": "cLpNVp2ZZfp2"
      },
      "source": [
        "costs = list()\n",
        "w = np.random.randn(D) / np.sqrt(D)\n",
        "learning_rate = 0.001\n",
        "l1 = 10.0\n",
        "\n",
        "for t in range(5000):\n",
        "    Yhat = sigmoid(X.dot(w))\n",
        "    delta = Yhat - Y\n",
        "    w = w - learning_rate*(X.T.dot(delta) + l1*np.sign(w))\n",
        "\n",
        "    cost = -(Y*np.log(Yhat) + (1-Y)*np.log(1 - Yhat)).mean() + l1*np.abs(w).mean()\n",
        "    costs.append(cost)"
      ],
      "execution_count": 7,
      "outputs": []
    },
    {
      "cell_type": "code",
      "metadata": {
        "colab": {
          "base_uri": "https://localhost:8080/",
          "height": 265
        },
        "id": "xilT0TWGbKTJ",
        "outputId": "bfd7f7f4-2b66-4376-bc21-9e2a228274c8"
      },
      "source": [
        "plt.plot(costs)\n",
        "plt.show()"
      ],
      "execution_count": 8,
      "outputs": [
        {
          "output_type": "display_data",
          "data": {
            "image/png": "[encoded data removed]",
            "text/plain": [
              "<Figure size 432x288 with 1 Axes>"
            ]
          },
          "metadata": {
            "tags": [],
            "needs_background": "light"
          }
        }
      ]
    },
    {
      "cell_type": "code",
      "metadata": {
        "colab": {
          "base_uri": "https://localhost:8080/",
          "height": 265
        },
        "id": "FefHrLJhbMvt",
        "outputId": "d2b418fe-abf4-4cff-daa8-db3bacfb4ca3"
      },
      "source": [
        "plt.plot(true_w, label='true_w')\n",
        "plt.plot(w, label='w map')\n",
        "plt.legend()\n",
        "plt.show()"
      ],
      "execution_count": 9,
      "outputs": [
        {
          "output_type": "display_data",
          "data": {
            "image/png": "[encoded data removed]",
            "text/plain": [
              "<Figure size 432x288 with 1 Axes>"
            ]
          },
          "metadata": {
            "tags": [],
            "needs_background": "light"
          }
        }
      ]
    },
    {
      "cell_type": "code",
      "metadata": {
        "id": "y_JrTdHcb14k"
      },
      "source": [
        ""
      ],
      "execution_count": 9,
      "outputs": []
    }
  ]
}