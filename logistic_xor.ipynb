{
  "nbformat": 4,
  "nbformat_minor": 0,
  "metadata": {
    "colab": {
      "name": "logistic_xor.ipynb",
      "provenance": [],
      "authorship_tag": "ABX9TyNXGa8j6eFImqiFJrtFhPkt",
      "include_colab_link": true
    },
    "kernelspec": {
      "name": "python3",
      "display_name": "Python 3"
    },
    "language_info": {
      "name": "python"
    }
  },
  "cells": [
    {
      "cell_type": "markdown",
      "metadata": {
        "id": "view-in-github",
        "colab_type": "text"
      },
      "source": [
        "<a href=\"https://colab.research.google.com/github/saadmarwan16/logistic_regression/blob/main/logistic_xor.ipynb\" target=\"_parent\"><img src=\"https://colab.research.google.com/assets/colab-badge.svg\" alt=\"Open In Colab\"/></a>"
      ]
    },
    {
      "cell_type": "code",
      "metadata": {
        "id": "eTh3K4MypXJ4"
      },
      "source": [
        "import numpy as np\n",
        "import matplotlib.pyplot as plt"
      ],
      "execution_count": 1,
      "outputs": []
    },
    {
      "cell_type": "code",
      "metadata": {
        "id": "hcppwjtjqEFw"
      },
      "source": [
        "N = 4\n",
        "D = 2"
      ],
      "execution_count": 2,
      "outputs": []
    },
    {
      "cell_type": "code",
      "metadata": {
        "id": "_6WuENbDqFn0"
      },
      "source": [
        "X = np.array([\n",
        "    [0, 0],\n",
        "    [0, 1],\n",
        "    [1, 0],\n",
        "    [1, 1]\n",
        "])"
      ],
      "execution_count": 3,
      "outputs": []
    },
    {
      "cell_type": "code",
      "metadata": {
        "colab": {
          "base_uri": "https://localhost:8080/",
          "height": 265
        },
        "id": "wFht4vXjqTKt",
        "outputId": "01145eb6-4485-405e-bf0d-76902f2e9067"
      },
      "source": [
        "T = np.array([0, 1, 1, 0])\n",
        "\n",
        "ones = np.array([[1]*N]).T\n",
        "\n",
        "plt.scatter(X[:, 0], X[:, 1], c=T)\n",
        "plt.show()"
      ],
      "execution_count": 4,
      "outputs": [
        {
          "output_type": "display_data",
          "data": {
            "image/png": "[encoded data removed]",
            "text/plain": [
              "<Figure size 432x288 with 1 Axes>"
            ]
          },
          "metadata": {
            "tags": [],
            "needs_background": "light"
          }
        }
      ]
    },
    {
      "cell_type": "code",
      "metadata": {
        "id": "94SKi0cpqwxJ"
      },
      "source": [
        "xy = np.matrix(X[:, 0] * X[:, 1]).T\n",
        "Xb = np.array(np.concatenate((ones, xy, X), axis=1))"
      ],
      "execution_count": 5,
      "outputs": []
    },
    {
      "cell_type": "code",
      "metadata": {
        "id": "58f_HMUCrZ8x"
      },
      "source": [
        "w = np.random.random(D+2)\n",
        "z = Xb.dot(w)"
      ],
      "execution_count": 6,
      "outputs": []
    },
    {
      "cell_type": "code",
      "metadata": {
        "id": "fNMJ0BQKuUNW"
      },
      "source": [
        "def sigmoid(z):\n",
        "    return 1 / (1 + np.exp(-z))"
      ],
      "execution_count": 7,
      "outputs": []
    },
    {
      "cell_type": "code",
      "metadata": {
        "id": "6U0VW68su8FN"
      },
      "source": [
        "Y = sigmoid(z)"
      ],
      "execution_count": 8,
      "outputs": []
    },
    {
      "cell_type": "code",
      "metadata": {
        "id": "Jemcl3uOu_L_"
      },
      "source": [
        "def cross_entropy(T, Y):\n",
        "    E = 0\n",
        "\n",
        "    for i in range(N):\n",
        "        if T[i] == 1:\n",
        "            E -= np.log(Y[i])\n",
        "        else:\n",
        "            E -= np.log(1 - Y[i])\n",
        "\n",
        "    return E"
      ],
      "execution_count": 9,
      "outputs": []
    },
    {
      "cell_type": "code",
      "metadata": {
        "colab": {
          "base_uri": "https://localhost:8080/"
        },
        "id": "DpdtIg40vC83",
        "outputId": "84c82f8b-c2bc-4a59-8fbf-2bf66e7c0d74"
      },
      "source": [
        "learning_rate = 0.001\n",
        "error = list()\n",
        "\n",
        "for i in range(5000):\n",
        "    e = cross_entropy(T, Y)\n",
        "    error.append(e)\n",
        "\n",
        "    if i % 100 == 0:\n",
        "        print(e)\n",
        "\n",
        "    w += learning_rate * (np.dot((T - Y).T, Xb) - 0.01*w)\n",
        "\n",
        "    Y = sigmoid(Xb.dot(w))"
      ],
      "execution_count": 10,
      "outputs": [
        {
          "output_type": "stream",
          "text": [
            "3.5405898756054306\n",
            "3.3998263255032306\n",
            "3.2823420565076935\n",
            "3.1844153849090375\n",
            "3.102519404479518\n",
            "3.033491930993972\n",
            "2.9746285480614256\n",
            "2.923704564211694\n",
            "2.8789458460867925\n",
            "2.838971133922022\n",
            "2.802724135950247\n",
            "2.7694072651064525\n",
            "2.738423197505562\n",
            "2.7093264821241316\n",
            "2.6817851319700696\n",
            "2.6555510229435972\n",
            "2.630437555231332\n",
            "2.606303050165761\n",
            "2.5830385465550165\n",
            "2.560558903599361\n",
            "2.538796352902144\n",
            "2.517695845143516\n",
            "2.4972117014451705\n",
            "2.4773052075726167\n",
            "2.457942886399042\n",
            "2.4390952566180237\n",
            "2.420735939140244\n",
            "2.40284101161532\n",
            "2.3853885397903745\n",
            "2.368358234799228\n",
            "2.351731200111313\n",
            "2.3354897423441296\n",
            "2.3196172276204945\n",
            "2.3040979704782187\n",
            "2.28891714612694\n",
            "2.2740607195354285\n",
            "2.2595153867384847\n",
            "2.2452685251019435\n",
            "2.2313081502383842\n",
            "2.2176228779400278\n",
            "2.2042018899706726\n",
            "2.191034902893444\n",
            "2.1781121393468523\n",
            "2.165424301347304\n",
            "2.152962545312524\n",
            "2.140718458581888\n",
            "2.128684037266807\n",
            "2.116851665304281\n",
            "2.105214094614787\n",
            "2.0937644262852464\n"
          ],
          "name": "stdout"
        }
      ]
    },
    {
      "cell_type": "code",
      "metadata": {
        "colab": {
          "base_uri": "https://localhost:8080/",
          "height": 298
        },
        "id": "2q41c0ggwIWT",
        "outputId": "039980bc-6119-4dc0-f051-0a74ff84c502"
      },
      "source": [
        "plt.plot(error)\n",
        "plt.title('Cross-entropy')"
      ],
      "execution_count": 11,
      "outputs": [
        {
          "output_type": "execute_result",
          "data": {
            "text/plain": [
              "Text(0.5, 1.0, 'Cross-entropy')"
            ]
          },
          "metadata": {
            "tags": []
          },
          "execution_count": 11
        },
        {
          "output_type": "display_data",
          "data": {
            "image/png": "[encoded data removed]",
            "text/plain": [
              "<Figure size 432x288 with 1 Axes>"
            ]
          },
          "metadata": {
            "tags": [],
            "needs_background": "light"
          }
        }
      ]
    },
    {
      "cell_type": "code",
      "metadata": {
        "colab": {
          "base_uri": "https://localhost:8080/"
        },
        "id": "giO2YznmwVVe",
        "outputId": "e06c8dc2-dff6-46ac-9384-20aa057ec3bc"
      },
      "source": [
        "print(f\"Final w: {w}\")\n",
        "print(f\"Final classification rate: {1 - np.abs(T - np.round(Y)).sum() / N}\")"
      ],
      "execution_count": 12,
      "outputs": [
        {
          "output_type": "stream",
          "text": [
            "Final w: [-0.05901985 -1.61023373  0.31554369  0.58352751]\n",
            "Final classification rate: 1.0\n"
          ],
          "name": "stdout"
        }
      ]
    },
    {
      "cell_type": "code",
      "metadata": {
        "id": "NVYXSRxcwam_"
      },
      "source": [
        ""
      ],
      "execution_count": 12,
      "outputs": []
    }
  ]
}