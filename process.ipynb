{
  "nbformat": 4,
  "nbformat_minor": 0,
  "metadata": {
    "colab": {
      "name": "process.ipynb",
      "provenance": [],
      "authorship_tag": "ABX9TyNJrkZ2uKDKSv42DTIB39H0",
      "include_colab_link": true
    },
    "kernelspec": {
      "name": "python3",
      "display_name": "Python 3"
    },
    "language_info": {
      "name": "python"
    }
  },
  "cells": [
    {
      "cell_type": "markdown",
      "metadata": {
        "id": "view-in-github",
        "colab_type": "text"
      },
      "source": [
        "<a href=\"https://colab.research.google.com/github/saadmarwan16/logistic_regression/blob/main/process.ipynb\" target=\"_parent\"><img src=\"https://colab.research.google.com/assets/colab-badge.svg\" alt=\"Open In Colab\"/></a>"
      ]
    },
    {
      "cell_type": "code",
      "metadata": {
        "id": "8tjwZAkIjfHP"
      },
      "source": [
        "# from google.colab import files\n",
        "# uploaded = files.upload()"
      ],
      "execution_count": 1,
      "outputs": []
    },
    {
      "cell_type": "code",
      "metadata": {
        "id": "XdUvs7hljswe"
      },
      "source": [
        "import numpy as np\n",
        "import pandas as pd"
      ],
      "execution_count": 2,
      "outputs": []
    },
    {
      "cell_type": "code",
      "metadata": {
        "colab": {
          "base_uri": "https://localhost:8080/",
          "height": 204
        },
        "id": "2CNzlXpBlTRV",
        "outputId": "a4f043de-1585-4953-aca1-3882e25e6227"
      },
      "source": [
        "df = pd.read_csv('ecommerce_data.csv')\n",
        "df.head(5)"
      ],
      "execution_count": 3,
      "outputs": [
        {
          "output_type": "execute_result",
          "data": {
            "text/html": [
              "<div>\n",
              "<style scoped>\n",
              "    .dataframe tbody tr th:only-of-type {\n",
              "        vertical-align: middle;\n",
              "    }\n",
              "\n",
              "    .dataframe tbody tr th {\n",
              "        vertical-align: top;\n",
              "    }\n",
              "\n",
              "    .dataframe thead th {\n",
              "        text-align: right;\n",
              "    }\n",
              "</style>\n",
              "<table border=\"1\" class=\"dataframe\">\n",
              "  <thead>\n",
              "    <tr style=\"text-align: right;\">\n",
              "      <th></th>\n",
              "      <th>is_mobile</th>\n",
              "      <th>n_products_viewed</th>\n",
              "      <th>visit_duration</th>\n",
              "      <th>is_returning_visitor</th>\n",
              "      <th>time_of_day</th>\n",
              "      <th>user_action</th>\n",
              "    </tr>\n",
              "  </thead>\n",
              "  <tbody>\n",
              "    <tr>\n",
              "      <th>0</th>\n",
              "      <td>1</td>\n",
              "      <td>0</td>\n",
              "      <td>0.657510</td>\n",
              "      <td>0</td>\n",
              "      <td>3</td>\n",
              "      <td>0</td>\n",
              "    </tr>\n",
              "    <tr>\n",
              "      <th>1</th>\n",
              "      <td>1</td>\n",
              "      <td>1</td>\n",
              "      <td>0.568571</td>\n",
              "      <td>0</td>\n",
              "      <td>2</td>\n",
              "      <td>1</td>\n",
              "    </tr>\n",
              "    <tr>\n",
              "      <th>2</th>\n",
              "      <td>1</td>\n",
              "      <td>0</td>\n",
              "      <td>0.042246</td>\n",
              "      <td>1</td>\n",
              "      <td>1</td>\n",
              "      <td>0</td>\n",
              "    </tr>\n",
              "    <tr>\n",
              "      <th>3</th>\n",
              "      <td>1</td>\n",
              "      <td>1</td>\n",
              "      <td>1.659793</td>\n",
              "      <td>1</td>\n",
              "      <td>1</td>\n",
              "      <td>2</td>\n",
              "    </tr>\n",
              "    <tr>\n",
              "      <th>4</th>\n",
              "      <td>0</td>\n",
              "      <td>1</td>\n",
              "      <td>2.014745</td>\n",
              "      <td>1</td>\n",
              "      <td>1</td>\n",
              "      <td>2</td>\n",
              "    </tr>\n",
              "  </tbody>\n",
              "</table>\n",
              "</div>"
            ],
            "text/plain": [
              "   is_mobile  n_products_viewed  ...  time_of_day  user_action\n",
              "0          1                  0  ...            3            0\n",
              "1          1                  1  ...            2            1\n",
              "2          1                  0  ...            1            0\n",
              "3          1                  1  ...            1            2\n",
              "4          0                  1  ...            1            2\n",
              "\n",
              "[5 rows x 6 columns]"
            ]
          },
          "metadata": {
            "tags": []
          },
          "execution_count": 3
        }
      ]
    },
    {
      "cell_type": "code",
      "metadata": {
        "id": "8ZEmFrIbkqQh"
      },
      "source": [
        "def get_data():\n",
        "    df = pd.read_csv('ecommerce_data.csv')\n",
        "    data = df.values\n",
        "\n",
        "    X = data[:, :-1]\n",
        "    Y = data[:, -1]\n",
        "\n",
        "    X[:, 1] = (X[:, 1] - X[:, 1].mean()) / X[:, 1].std()\n",
        "    X[:, 2] = (X[:, 2] - X[:, 2].mean()) / X[:, 2].std()\n",
        "\n",
        "    N, D = X.shape\n",
        "    X2 = np.zeros((N, D+3))\n",
        "    X2[:, 0:(D-1)] = X[:, 0:(D-1)]\n",
        "\n",
        "    for n in range(N):\n",
        "        t = int(X[n, D-1])\n",
        "        X2[n, t+D-1] = 1\n",
        "\n",
        "    # This is an altenative method of doing one-hot-encoding\n",
        "    # Z = np.zeros((N, 4))\n",
        "    # Z[np.arange(N), X[:, D-1].astype(np.int32)] = 1\n",
        "    # X2[:, -4:] = Z\n",
        "    # assert(np.abs(X2[:, -4:] - Z).sum() < 10e-10)\n",
        "\n",
        "    return X2, Y"
      ],
      "execution_count": 4,
      "outputs": []
    },
    {
      "cell_type": "code",
      "metadata": {
        "id": "ywOXaX75r4YD"
      },
      "source": [
        "def get_binary_data():\n",
        "    X, Y = get_data()\n",
        "    X2 = X[Y <= 1]\n",
        "    Y2 = Y[Y <= 1]\n",
        "\n",
        "    return X2, Y2"
      ],
      "execution_count": 5,
      "outputs": []
    },
    {
      "cell_type": "code",
      "metadata": {
        "id": "oVgICeqAuWKJ"
      },
      "source": [
        ""
      ],
      "execution_count": 5,
      "outputs": []
    }
  ]
}