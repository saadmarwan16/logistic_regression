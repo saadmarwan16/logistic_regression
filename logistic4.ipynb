{
  "nbformat": 4,
  "nbformat_minor": 0,
  "metadata": {
    "colab": {
      "name": "logistic4.ipynb",
      "provenance": [],
      "authorship_tag": "ABX9TyO8LN2KHUtbc6Z+ySoeBncl",
      "include_colab_link": true
    },
    "kernelspec": {
      "name": "python3",
      "display_name": "Python 3"
    },
    "language_info": {
      "name": "python"
    }
  },
  "cells": [
    {
      "cell_type": "markdown",
      "metadata": {
        "id": "view-in-github",
        "colab_type": "text"
      },
      "source": [
        "<a href=\"https://colab.research.google.com/github/saadmarwan16/logistic_regression/blob/main/logistic4.ipynb\" target=\"_parent\"><img src=\"https://colab.research.google.com/assets/colab-badge.svg\" alt=\"Open In Colab\"/></a>"
      ]
    },
    {
      "cell_type": "code",
      "metadata": {
        "id": "p_m9bgbTCw1U"
      },
      "source": [
        "import numpy as np"
      ],
      "execution_count": 1,
      "outputs": []
    },
    {
      "cell_type": "code",
      "metadata": {
        "id": "86ErrYYdD4aL"
      },
      "source": [
        "N = 100\n",
        "D = 2"
      ],
      "execution_count": 2,
      "outputs": []
    },
    {
      "cell_type": "code",
      "metadata": {
        "id": "tM_omhsdD6bQ"
      },
      "source": [
        "X = np.random.randn(N, D)"
      ],
      "execution_count": 3,
      "outputs": []
    },
    {
      "cell_type": "code",
      "metadata": {
        "id": "tJHWQentD8wj"
      },
      "source": [
        "X[:50, :] = X[:50, :] - 2*np.ones((50, D))\n",
        "X[50:, :] = X[50:, :] + 2*np.ones((50, D))\n",
        "\n",
        "T = np.array([0]*50 + [1]*50)"
      ],
      "execution_count": 4,
      "outputs": []
    },
    {
      "cell_type": "code",
      "metadata": {
        "id": "PD0DJ-W6D-7l"
      },
      "source": [
        "ones = np.array([[1]*N]).T\n",
        "Xb = np.concatenate((ones, X), axis=1)"
      ],
      "execution_count": 5,
      "outputs": []
    },
    {
      "cell_type": "code",
      "metadata": {
        "id": "8Iz_YMDkEBLq"
      },
      "source": [
        "w = np.random.randn(D + 1)\n",
        "z = Xb.dot(w)"
      ],
      "execution_count": 6,
      "outputs": []
    },
    {
      "cell_type": "code",
      "metadata": {
        "id": "U_OE6o0tEDl4"
      },
      "source": [
        "def sigmoid(z):\n",
        "    return 1 / (1 + np.exp(-z))"
      ],
      "execution_count": 7,
      "outputs": []
    },
    {
      "cell_type": "code",
      "metadata": {
        "id": "FWqOSWa9EFnl"
      },
      "source": [
        "Y = sigmoid(z)"
      ],
      "execution_count": 8,
      "outputs": []
    },
    {
      "cell_type": "code",
      "metadata": {
        "id": "ydNidTemEKcb"
      },
      "source": [
        "def cross_entropy(T, Y):\n",
        "    E = 0\n",
        "\n",
        "    for i in range(N):\n",
        "        if T[i] == 1:\n",
        "            E -= np.log(Y[i])\n",
        "        else:\n",
        "            E -= np.log(1 - Y[i])\n",
        "\n",
        "    return E"
      ],
      "execution_count": 9,
      "outputs": []
    },
    {
      "cell_type": "code",
      "metadata": {
        "colab": {
          "base_uri": "https://localhost:8080/"
        },
        "id": "Q0B-P9_bEM28",
        "outputId": "eff97451-1d6d-4c26-83e4-691ddb637bad"
      },
      "source": [
        "print(f\"The cross entropy error is: {cross_entropy(T, Y)}\")"
      ],
      "execution_count": 10,
      "outputs": [
        {
          "output_type": "stream",
          "text": [
            "The cross entropy error is: 28.04098553443107\n"
          ],
          "name": "stdout"
        }
      ]
    },
    {
      "cell_type": "code",
      "metadata": {
        "colab": {
          "base_uri": "https://localhost:8080/"
        },
        "id": "cguzfo69EPY8",
        "outputId": "b961bbcf-1736-40be-af55-3d9103b5c7c9"
      },
      "source": [
        "learning_rate = 0.1\n",
        "\n",
        "for i in range(100):\n",
        "    if i % 10 == 0:\n",
        "        print(cross_entropy(T, Y))\n",
        "\n",
        "    w += learning_rate * (np.dot((T - Y).T, Xb) - 0.1*w)\n",
        "    Y = sigmoid(Xb.dot(w))\n",
        "\n",
        "print(f\"Final weight: {w}\")"
      ],
      "execution_count": 11,
      "outputs": [
        {
          "output_type": "stream",
          "text": [
            "28.04098553443107\n",
            "0.032071534955631004\n",
            "0.05263937700389602\n",
            "0.08047750466797125\n",
            "0.11394441690265358\n",
            "0.1490702779414621\n",
            "0.18097718544894673\n",
            "0.20620889722465136\n",
            "0.2239428425146351\n",
            "0.2353420936233587\n",
            "Final weight: [-0.36512026  2.4803057   2.27344134]\n"
          ],
          "name": "stdout"
        }
      ]
    },
    {
      "cell_type": "code",
      "metadata": {
        "id": "t5GqL7pTES85"
      },
      "source": [
        ""
      ],
      "execution_count": 11,
      "outputs": []
    }
  ]
}