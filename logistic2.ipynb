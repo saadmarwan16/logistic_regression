{
  "nbformat": 4,
  "nbformat_minor": 0,
  "metadata": {
    "colab": {
      "name": "logistic2.ipynb",
      "provenance": [],
      "authorship_tag": "ABX9TyNJ4C3M/2eRgIFCCI5avwzx",
      "include_colab_link": true
    },
    "kernelspec": {
      "name": "python3",
      "display_name": "Python 3"
    },
    "language_info": {
      "name": "python"
    }
  },
  "cells": [
    {
      "cell_type": "markdown",
      "metadata": {
        "id": "view-in-github",
        "colab_type": "text"
      },
      "source": [
        "<a href=\"https://colab.research.google.com/github/saadmarwan16/logistic_regression/blob/main/logistic2.ipynb\" target=\"_parent\"><img src=\"https://colab.research.google.com/assets/colab-badge.svg\" alt=\"Open In Colab\"/></a>"
      ]
    },
    {
      "cell_type": "code",
      "metadata": {
        "id": "PDsA_CHcX4JB"
      },
      "source": [
        "import numpy as np"
      ],
      "execution_count": 1,
      "outputs": []
    },
    {
      "cell_type": "code",
      "metadata": {
        "id": "fxYP-XkWZYl-"
      },
      "source": [
        "N = 100\n",
        "D = 2"
      ],
      "execution_count": 2,
      "outputs": []
    },
    {
      "cell_type": "code",
      "metadata": {
        "id": "LC6niMTmZb-G"
      },
      "source": [
        "X = np.random.randn(N, D)"
      ],
      "execution_count": 3,
      "outputs": []
    },
    {
      "cell_type": "code",
      "metadata": {
        "id": "_lQAVvDgZgm4"
      },
      "source": [
        "X[:50, :] = X[:50, :] - 2*np.ones((50, D))\n",
        "X[50:, :] = X[50:, :] + 2*np.ones((50, D))\n",
        "\n",
        "T = np.array([0]*50 + [1]*50)"
      ],
      "execution_count": 4,
      "outputs": []
    },
    {
      "cell_type": "code",
      "metadata": {
        "id": "v9ij9AfhbPrh"
      },
      "source": [
        "ones = np.array([[1]*N]).T\n",
        "Xb = np.concatenate((ones, X), axis=1)"
      ],
      "execution_count": 5,
      "outputs": []
    },
    {
      "cell_type": "code",
      "metadata": {
        "id": "qTitkYgvd57i"
      },
      "source": [
        "w = np.random.randn(D + 1)\n",
        "z = Xb.dot(w)"
      ],
      "execution_count": 6,
      "outputs": []
    },
    {
      "cell_type": "code",
      "metadata": {
        "id": "qFhoJWIEeBJe"
      },
      "source": [
        "def sigmoid(z):\n",
        "    return 1 / (1 + np.exp(-z))"
      ],
      "execution_count": 7,
      "outputs": []
    },
    {
      "cell_type": "code",
      "metadata": {
        "id": "I___JuD7eSUO"
      },
      "source": [
        "Y = sigmoid(z)"
      ],
      "execution_count": 8,
      "outputs": []
    },
    {
      "cell_type": "code",
      "metadata": {
        "id": "qIXJJIz3ekki"
      },
      "source": [
        "def cross_entropy(T, Y):\n",
        "    E = 0\n",
        "\n",
        "    for i in range(N):\n",
        "        if T[i] == 1:\n",
        "            E -= np.log(Y[i])\n",
        "        else:\n",
        "            E -= np.log(1 - Y[i])\n",
        "\n",
        "    return E "
      ],
      "execution_count": 9,
      "outputs": []
    },
    {
      "cell_type": "code",
      "metadata": {
        "colab": {
          "base_uri": "https://localhost:8080/"
        },
        "id": "0-GqAnplfXTz",
        "outputId": "93df05c1-a30d-43ee-99be-284c698d6bdf"
      },
      "source": [
        "print(f\"The cross entropy error is: {cross_entropy(T, Y)}\")"
      ],
      "execution_count": 10,
      "outputs": [
        {
          "output_type": "stream",
          "text": [
            "The cross entropy error is: 139.39427875986632\n"
          ],
          "name": "stdout"
        }
      ]
    },
    {
      "cell_type": "code",
      "metadata": {
        "colab": {
          "base_uri": "https://localhost:8080/"
        },
        "id": "4QtzUJb9fk4U",
        "outputId": "bfd6d35a-1efe-44f9-d5ca-3b16be30a69b"
      },
      "source": [
        "# The closed form solution\n",
        "w = np.array([0, 4, 4])    # Try doing the calculation to confirm the weights are 4, 4\n",
        "\n",
        "z = Xb.dot(w)\n",
        "Y = sigmoid(z)\n",
        "\n",
        "print(f\"The cross entropy error is: {cross_entropy(T, Y)}\")"
      ],
      "execution_count": 11,
      "outputs": [
        {
          "output_type": "stream",
          "text": [
            "The cross entropy error is: 0.07101626053008664\n"
          ],
          "name": "stdout"
        }
      ]
    },
    {
      "cell_type": "code",
      "metadata": {
        "id": "mSndUCFUgXTg"
      },
      "source": [
        ""
      ],
      "execution_count": 11,
      "outputs": []
    }
  ]
}